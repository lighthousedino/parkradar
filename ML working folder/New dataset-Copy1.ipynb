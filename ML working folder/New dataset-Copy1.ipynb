{
 "cells": [
  {
   "cell_type": "code",
   "execution_count": 63,
   "id": "a3bfabb9-65aa-4a47-9f0a-a1d17218971c",
   "metadata": {},
   "outputs": [],
   "source": [
    "import numpy as np\n",
    "import pandas as pd\n",
    "\n",
    "FILENAME = 'dataset_simplified.csv'\n",
    "DELIMITER = ';'\n",
    "\n",
    "data = np.genfromtxt(FILENAME, delimiter = DELIMITER)\n",
    "data[0,0] = 3\n",
    "\n",
    "data = np.column_stack((data, data[:, 2:]))\n",
    "data = np.column_stack((data, data[:, 2:]))\n",
    "\n",
    "mu, sigma = 0, 0.1\n",
    "noise = np.random.normal(mu, sigma, [5007, 6])\n",
    "data[:, 4:] = data[:, 4:] + noise\n",
    "\n",
    "data_2 = np.copy(data)\n",
    "data_2[:, :4] = 0\n",
    "data[data_2 > 1] = 1\n",
    "data[data_2 < 0] = 0\n",
    "\n",
    "np.savetxt(\"Updated_data.csv\", data, delimiter = \",\", fmt ='%1.2f')\n"
   ]
  },
  {
   "cell_type": "code",
   "execution_count": null,
   "id": "0142753c-72c0-4a0b-aab5-f9db1956a3df",
   "metadata": {},
   "outputs": [],
   "source": []
  }
 ],
 "metadata": {
  "kernelspec": {
   "display_name": "Python",
   "language": "python",
   "name": "python3"
  },
  "language_info": {
   "codemirror_mode": {
    "name": "ipython",
    "version": 3
   },
   "file_extension": ".py",
   "mimetype": "text/x-python",
   "name": "python",
   "nbconvert_exporter": "python",
   "pygments_lexer": "ipython3",
   "version": "3.8.10"
  }
 },
 "nbformat": 4,
 "nbformat_minor": 5
}
