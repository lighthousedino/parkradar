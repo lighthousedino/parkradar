{
 "cells": [
  {
   "cell_type": "code",
   "execution_count": 2,
   "metadata": {},
   "outputs": [
    {
     "ename": "SyntaxError",
     "evalue": "invalid syntax (number.py, line 398)",
     "output_type": "error",
     "traceback": [
      "Traceback \u001b[0;36m(most recent call last)\u001b[0m:\n",
      "  File \u001b[1;32m/opt/miniconda3/envs/parking-app/lib/python3.9/site-packages/IPython/core/interactiveshell.py:3397\u001b[0m in \u001b[1;35mrun_code\u001b[0m\n    exec(code_obj, self.user_global_ns, self.user_ns)\n",
      "  Input \u001b[1;32mIn [2]\u001b[0m in \u001b[1;35m<cell line: 5>\u001b[0m\n    import keras\n",
      "  File \u001b[1;32m/opt/miniconda3/envs/parking-app/lib/python3.9/site-packages/keras/__init__.py:21\u001b[0m in \u001b[1;35m<module>\u001b[0m\n    from tensorflow.python import tf2\n",
      "  File \u001b[1;32m/opt/miniconda3/envs/parking-app/lib/python3.9/site-packages/tensorflow/__init__.py:37\u001b[0m in \u001b[1;35m<module>\u001b[0m\n    from tensorflow.python.tools import module_util as _module_util\n",
      "  File \u001b[1;32m/opt/miniconda3/envs/parking-app/lib/python3.9/site-packages/tensorflow/python/__init__.py:45\u001b[0m in \u001b[1;35m<module>\u001b[0m\n    from tensorflow.python.feature_column import feature_column_lib as feature_column\n",
      "  File \u001b[1;32m/opt/miniconda3/envs/parking-app/lib/python3.9/site-packages/tensorflow/python/feature_column/feature_column_lib.py:18\u001b[0m in \u001b[1;35m<module>\u001b[0m\n    from tensorflow.python.feature_column.feature_column import *\n",
      "  File \u001b[1;32m/opt/miniconda3/envs/parking-app/lib/python3.9/site-packages/tensorflow/python/feature_column/feature_column.py:143\u001b[0m in \u001b[1;35m<module>\u001b[0m\n    from tensorflow.python.layers import base\n",
      "  File \u001b[1;32m/opt/miniconda3/envs/parking-app/lib/python3.9/site-packages/tensorflow/python/layers/base.py:16\u001b[0m in \u001b[1;35m<module>\u001b[0m\n    from tensorflow.python.keras.legacy_tf_layers import base\n",
      "  File \u001b[1;32m/opt/miniconda3/envs/parking-app/lib/python3.9/site-packages/tensorflow/python/keras/__init__.py:25\u001b[0m in \u001b[1;35m<module>\u001b[0m\n    from tensorflow.python.keras import models\n",
      "  File \u001b[1;32m/opt/miniconda3/envs/parking-app/lib/python3.9/site-packages/tensorflow/python/keras/models.py:20\u001b[0m in \u001b[1;35m<module>\u001b[0m\n    from tensorflow.python.keras import metrics as metrics_module\n",
      "  File \u001b[1;32m/opt/miniconda3/envs/parking-app/lib/python3.9/site-packages/tensorflow/python/keras/metrics.py:34\u001b[0m in \u001b[1;35m<module>\u001b[0m\n    from tensorflow.python.keras import activations\n",
      "  File \u001b[1;32m/opt/miniconda3/envs/parking-app/lib/python3.9/site-packages/tensorflow/python/keras/activations.py:18\u001b[0m in \u001b[1;35m<module>\u001b[0m\n    from tensorflow.python.keras.layers import advanced_activations\n",
      "  File \u001b[1;32m/opt/miniconda3/envs/parking-app/lib/python3.9/site-packages/tensorflow/python/keras/layers/__init__.py:22\u001b[0m in \u001b[1;35m<module>\u001b[0m\n    from tensorflow.python.keras.engine.input_layer import Input\n",
      "  File \u001b[1;32m/opt/miniconda3/envs/parking-app/lib/python3.9/site-packages/tensorflow/python/keras/engine/input_layer.py:24\u001b[0m in \u001b[1;35m<module>\u001b[0m\n    from tensorflow.python.keras.engine import base_layer\n",
      "  File \u001b[1;32m/opt/miniconda3/envs/parking-app/lib/python3.9/site-packages/tensorflow/python/keras/engine/base_layer.py:48\u001b[0m in \u001b[1;35m<module>\u001b[0m\n    from tensorflow.python.keras.engine import base_layer_utils\n",
      "  File \u001b[1;32m/opt/miniconda3/envs/parking-app/lib/python3.9/site-packages/tensorflow/python/keras/engine/base_layer_utils.py:31\u001b[0m in \u001b[1;35m<module>\u001b[0m\n    from tensorflow.python.keras.utils import tf_utils\n",
      "  File \u001b[1;32m/opt/miniconda3/envs/parking-app/lib/python3.9/site-packages/tensorflow/python/keras/utils/tf_utils.py:22\u001b[0m in \u001b[1;35m<module>\u001b[0m\n    from tensorflow.python.distribute.coordinator import cluster_coordinator as coordinator_lib\n",
      "  File \u001b[1;32m/opt/miniconda3/envs/parking-app/lib/python3.9/site-packages/tensorflow/python/distribute/coordinator/cluster_coordinator.py:30\u001b[0m in \u001b[1;35m<module>\u001b[0m\n    from tensorflow.python.distribute import parameter_server_strategy_v2\n",
      "  File \u001b[1;32m/opt/miniconda3/envs/parking-app/lib/python3.9/site-packages/tensorflow/python/distribute/parameter_server_strategy_v2.py:31\u001b[0m in \u001b[1;35m<module>\u001b[0m\n    from tensorflow.python.distribute import parameter_server_strategy\n",
      "  File \u001b[1;32m/opt/miniconda3/envs/parking-app/lib/python3.9/site-packages/tensorflow/python/distribute/parameter_server_strategy.py:31\u001b[0m in \u001b[1;35m<module>\u001b[0m\n    from tensorflow.python.distribute.cluster_resolver import SimpleClusterResolver\n",
      "  File \u001b[1;32m/opt/miniconda3/envs/parking-app/lib/python3.9/site-packages/tensorflow/python/distribute/cluster_resolver/__init__.py:27\u001b[0m in \u001b[1;35m<module>\u001b[0m\n    from tensorflow.python.distribute.cluster_resolver.gce_cluster_resolver import GCEClusterResolver\n",
      "  File \u001b[1;32m/opt/miniconda3/envs/parking-app/lib/python3.9/site-packages/tensorflow/python/distribute/cluster_resolver/gce_cluster_resolver.py:24\u001b[0m in \u001b[1;35m<module>\u001b[0m\n    from googleapiclient import discovery  # pylint: disable=g-import-not-at-top\n",
      "  File \u001b[1;32m/opt/miniconda3/envs/parking-app/lib/python3.9/site-packages/googleapiclient/discovery.py:55\u001b[0m in \u001b[1;35m<module>\u001b[0m\n    from googleapiclient import _auth\n",
      "  File \u001b[1;32m/opt/miniconda3/envs/parking-app/lib/python3.9/site-packages/googleapiclient/_auth.py:34\u001b[0m in \u001b[1;35m<module>\u001b[0m\n    import oauth2client.client\n",
      "  File \u001b[1;32m/opt/miniconda3/envs/parking-app/lib/python3.9/site-packages/oauth2client/client.py:47\u001b[0m in \u001b[1;35m<module>\u001b[0m\n    from oauth2client import crypt\n",
      "  File \u001b[1;32m/opt/miniconda3/envs/parking-app/lib/python3.9/site-packages/oauth2client/crypt.py:55\u001b[0m in \u001b[1;35m<module>\u001b[0m\n    from oauth2client import _pycrypto_crypt\n",
      "  File \u001b[1;32m/opt/miniconda3/envs/parking-app/lib/python3.9/site-packages/oauth2client/_pycrypto_crypt.py:17\u001b[0m in \u001b[1;35m<module>\u001b[0m\n    from Crypto.PublicKey import RSA\n",
      "  File \u001b[1;32m/opt/miniconda3/envs/parking-app/lib/python3.9/site-packages/Crypto/PublicKey/__init__.py:29\u001b[0m in \u001b[1;35m<module>\u001b[0m\n    from Crypto.Util.asn1 import (DerSequence, DerInteger, DerBitString,\n",
      "\u001b[0;36m  File \u001b[0;32m/opt/miniconda3/envs/parking-app/lib/python3.9/site-packages/Crypto/Util/asn1.py:33\u001b[0;36m in \u001b[0;35m<module>\u001b[0;36m\u001b[0m\n\u001b[0;31m    from Crypto.Util.number import long_to_bytes, bytes_to_long\u001b[0m\n",
      "\u001b[0;36m  File \u001b[0;32m/opt/miniconda3/envs/parking-app/lib/python3.9/site-packages/Crypto/Util/number.py:398\u001b[0;36m\u001b[0m\n\u001b[0;31m    s = pack('>I', n & 0xffffffffL) + s\u001b[0m\n\u001b[0m                                 ^\u001b[0m\n\u001b[0;31mSyntaxError\u001b[0m\u001b[0;31m:\u001b[0m invalid syntax\n"
     ]
    }
   ],
   "source": [
    "import numpy as np\n",
    "import matplotlib.pyplot as plt\n",
    "%matplotlib inline \n",
    "\n",
    "import keras\n",
    "from keras.models import Sequential     \n",
    "from keras.layers import Dense \n",
    "from keras.utils import np_utils            \n"
   ]
  },
  {
   "cell_type": "code",
   "execution_count": 26,
   "metadata": {},
   "outputs": [],
   "source": [
    "from numpy import genfromtxt\n",
    "FILENAME = 'data/dataset_simplified.csv' \n",
    "DELIMITER = ';'\n",
    "\n",
    "data = genfromtxt(FILENAME, delimiter=DELIMITER)\n",
    "data[0, 0] = 0"
   ]
  },
  {
   "cell_type": "code",
   "execution_count": 27,
   "metadata": {},
   "outputs": [
    {
     "name": "stdout",
     "output_type": "stream",
     "text": [
      "ndim: 2\n",
      "shape: (5007, 4)\n",
      "size: 20028\n",
      "[[0.   0.   0.83 0.93]\n",
      " [3.   0.1  0.83 0.93]\n",
      " [3.   0.2  0.83 0.93]\n",
      " [3.   0.3  0.83 0.93]\n",
      " [3.   0.4  0.83 0.93]]\n",
      "...\n",
      "[[ 2.   20.6   0.48  0.9 ]\n",
      " [ 2.   20.7   0.49  0.91]\n",
      " [ 2.   20.8   0.5   0.91]\n",
      " [ 2.   20.9   0.54  0.91]\n",
      " [ 2.   21.    0.55  0.91]]\n"
     ]
    }
   ],
   "source": [
    "print(f'ndim: {np.ndim(data)}')\n",
    "print(f'shape: {np.shape(data)}')\n",
    "print(f'size: {np.size(data)}')\n",
    "\n",
    "print(data[0:5])\n",
    "print('...')\n",
    "print(data[-5:])\n",
    "\n",
    "# day, time_decimal, king_percent, wickham_percent"
   ]
  },
  {
   "cell_type": "code",
   "execution_count": null,
   "metadata": {},
   "outputs": [],
   "source": [
    "# King George Square\n",
    "# Wickham Terrace Car Parks\n",
    "\n",
    "# Wilson Parking\n",
    "# First Parking\n",
    "# AM60\n",
    "# Secure Parking - 21 Martin Street"
   ]
  },
  {
   "cell_type": "code",
   "execution_count": 30,
   "metadata": {},
   "outputs": [],
   "source": [
    "data_king = data.copy()\n",
    "data_king = np.delete(data_king, 3, 1)\n",
    "\n",
    "data_wickham = data.copy()\n",
    "data_wickham = np.delete(data_wickham, 2, 1)\n"
   ]
  },
  {
   "cell_type": "code",
   "execution_count": null,
   "metadata": {},
   "outputs": [],
   "source": []
  },
  {
   "cell_type": "code",
   "execution_count": null,
   "metadata": {},
   "outputs": [],
   "source": []
  },
  {
   "cell_type": "code",
   "execution_count": null,
   "metadata": {},
   "outputs": [],
   "source": []
  }
 ],
 "metadata": {
  "interpreter": {
   "hash": "bb588eba6c53474b58dd870b58e072a6176586e76199a4141ede896066663fa2"
  },
  "kernelspec": {
   "display_name": "Python 3.9.12 ('parking-app')",
   "language": "python",
   "name": "python3"
  },
  "language_info": {
   "codemirror_mode": {
    "name": "ipython",
    "version": 3
   },
   "file_extension": ".py",
   "mimetype": "text/x-python",
   "name": "python",
   "nbconvert_exporter": "python",
   "pygments_lexer": "ipython3",
   "version": "3.9.12"
  },
  "orig_nbformat": 4
 },
 "nbformat": 4,
 "nbformat_minor": 2
}
