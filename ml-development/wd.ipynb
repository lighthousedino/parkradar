{
 "cells": [
  {
   "cell_type": "code",
   "execution_count": 32,
   "metadata": {},
   "outputs": [],
   "source": [
    "import numpy as np\n",
    "import matplotlib.pyplot as plt\n",
    "%matplotlib inline \n",
    "\n",
    "import keras\n",
    "from keras.models import Sequential     \n",
    "from keras.layers import Dense \n",
    "from keras.utils import np_utils            \n"
   ]
  },
  {
   "cell_type": "code",
   "execution_count": 26,
   "metadata": {},
   "outputs": [],
   "source": [
    "from numpy import genfromtxt\n",
    "FILENAME = 'data/dataset_simplified.csv' \n",
    "DELIMITER = ';'\n",
    "\n",
    "data = genfromtxt(FILENAME, delimiter=DELIMITER)\n",
    "data[0, 0] = 0"
   ]
  },
  {
   "cell_type": "code",
   "execution_count": 27,
   "metadata": {},
   "outputs": [
    {
     "name": "stdout",
     "output_type": "stream",
     "text": [
      "ndim: 2\n",
      "shape: (5007, 4)\n",
      "size: 20028\n",
      "[[0.   0.   0.83 0.93]\n",
      " [3.   0.1  0.83 0.93]\n",
      " [3.   0.2  0.83 0.93]\n",
      " [3.   0.3  0.83 0.93]\n",
      " [3.   0.4  0.83 0.93]]\n",
      "...\n",
      "[[ 2.   20.6   0.48  0.9 ]\n",
      " [ 2.   20.7   0.49  0.91]\n",
      " [ 2.   20.8   0.5   0.91]\n",
      " [ 2.   20.9   0.54  0.91]\n",
      " [ 2.   21.    0.55  0.91]]\n"
     ]
    }
   ],
   "source": [
    "print(f'ndim: {np.ndim(data)}')\n",
    "print(f'shape: {np.shape(data)}')\n",
    "print(f'size: {np.size(data)}')\n",
    "\n",
    "print(data[0:5])\n",
    "print('...')\n",
    "print(data[-5:])\n",
    "\n",
    "# day, time_decimal, king_percent, wickham_percent"
   ]
  },
  {
   "cell_type": "code",
   "execution_count": null,
   "metadata": {},
   "outputs": [],
   "source": [
    "# King George Square\n",
    "# Wickham Terrace Car Parks\n",
    "\n",
    "# Wilson Parking\n",
    "# First Parking\n",
    "# AM60\n",
    "# Secure Parking - 21 Martin Street"
   ]
  },
  {
   "cell_type": "code",
   "execution_count": 30,
   "metadata": {},
   "outputs": [],
   "source": [
    "data_king = data.copy()\n",
    "data_king = np.delete(data_king, 3, 1)\n",
    "\n",
    "data_wickham = data.copy()\n",
    "data_wickham = np.delete(data_wickham, 2, 1)\n"
   ]
  },
  {
   "cell_type": "code",
   "execution_count": null,
   "metadata": {},
   "outputs": [],
   "source": []
  },
  {
   "cell_type": "code",
   "execution_count": null,
   "metadata": {},
   "outputs": [],
   "source": []
  },
  {
   "cell_type": "code",
   "execution_count": null,
   "metadata": {},
   "outputs": [],
   "source": []
  }
 ],
 "metadata": {
  "interpreter": {
   "hash": "bb588eba6c53474b58dd870b58e072a6176586e76199a4141ede896066663fa2"
  },
  "kernelspec": {
   "display_name": "Python 3.9.12 ('parking-app')",
   "language": "python",
   "name": "python3"
  },
  "language_info": {
   "codemirror_mode": {
    "name": "ipython",
    "version": 3
   },
   "file_extension": ".py",
   "mimetype": "text/x-python",
   "name": "python",
   "nbconvert_exporter": "python",
   "pygments_lexer": "ipython3",
   "version": "3.9.12"
  },
  "orig_nbformat": 4
 },
 "nbformat": 4,
 "nbformat_minor": 2
}
